{
 "cells": [
  {
   "cell_type": "markdown",
   "metadata": {
    "collapsed": true
   },
   "source": [
    "# UW Data Science 350 - Winter 2017\n",
    "## Assignment 6: Bayesian Analysis\n",
    "## Dave Wine 8430191"
   ]
  },
  {
   "cell_type": "code",
   "execution_count": 4,
   "metadata": {
    "collapsed": false
   },
   "outputs": [
    {
     "name": "stderr",
     "output_type": "stream",
     "text": [
      "Loading required package: LearnBayes\n",
      "Warning message:\n",
      "\"package 'LearnBayes' was built under R version 3.3.2\"Loading required package: repr\n",
      "Warning message:\n",
      "\"package 'repr' was built under R version 3.3.2\"Loading required package: ggplot2\n",
      "Warning message:\n",
      "\"package 'ggplot2' was built under R version 3.3.2\""
     ]
    }
   ],
   "source": [
    "require ('LearnBayes')\n",
    "require ('repr')\n",
    "require ('ggplot2')"
   ]
  },
  {
   "cell_type": "markdown",
   "metadata": {},
   "source": [
    "## Questions\n",
    "\n",
    "Probability of texting.\n",
    "You are asked to compute the probability that the driver of a car is texting at a specific intersection.\n",
    "Nationally the cumulative probability that a driver is texting is:\n",
    "\n",
    "    P = 0.5, at x = 0.1\n",
    "    P = 0.75 at x = 0.3\n",
    "\n",
    "You observe cars at a location three times and note the number of texting drivers:\n",
    "    2 texting out of 20 drivers\n",
    "    4 texting out of 20 drivers\n",
    "    1 texting out of 20 drivers\n",
    "\n",
    "Given these data:\n",
    "1. Compute the Beta prior, and report the coefficients.\n",
    "2. Plot the prior, likelihood and posterior three times as you update your belief based on collecting more data.\n",
    "3. Simulate the final posterior distribution and do the following:\n",
    "4. Plot the posterior with the 90% HDI shown\n",
    "5. Report the upper and lower limits of the 90% HDI\n",
    "6. Of the next hundred drivers what are the number of texting drivers in the 90% HDI?\n",
    "7. Are the drivers in this area better or worse that the national figures indicate?"
   ]
  },
  {
   "cell_type": "markdown",
   "metadata": {},
   "source": [
    "## Summary Results\n",
    "\n",
    "1. The beta coeffcients are alpha=0.41, beta=1.73\n",
    "2. See plots below\n",
    "3. See below.\n",
    "4. See below.\n",
    "5. The upper and lower 90% HDI limits are 5 and 19 respectively.  We can be 90% certain that not less than 5 and not more than 19 drivers are texting at the intersection.\n",
    "6. For a sample of 100 drivers, the 90% HDI limits are 4 and 20.\n",
    "7. This is not necessarily an easy question to answer!  Running a sample of 100 drivers on the national statistics (such as they are given) indicates that between 0 and 55 drivers might be texting at any time, with 90% confidence, as compared to 4 and 20 above.  Also, the mean number of texting local drivers (12) is less than the average number of texting national drivers (19).  So in these ways, local drivers appear to be better (i.e. they text less)  \n",
    "\n",
    "However, the PDF plots below indicate that is it most likely (8%) to see 11 out of every hundred local drivers texting, but very unlikely to see only one or more than 20.  So in that sense, local drivers are worse, since the chance of an accident would be expected to increase as more people are distracted."
   ]
  },
  {
   "cell_type": "markdown",
   "metadata": {},
   "source": [
    "## Analysis\n",
    "\n",
    "Input the national probabilities:"
   ]
  },
  {
   "cell_type": "code",
   "execution_count": 5,
   "metadata": {
    "collapsed": false
   },
   "outputs": [
    {
     "data": {
      "text/html": [
       "<ol class=list-inline>\n",
       "\t<li>0.41</li>\n",
       "\t<li>1.73</li>\n",
       "</ol>\n"
      ],
      "text/latex": [
       "\\begin{enumerate*}\n",
       "\\item 0.41\n",
       "\\item 1.73\n",
       "\\end{enumerate*}\n"
      ],
      "text/markdown": [
       "1. 0.41\n",
       "2. 1.73\n",
       "\n",
       "\n"
      ],
      "text/plain": [
       "[1] 0.41 1.73"
      ]
     },
     "metadata": {},
     "output_type": "display_data"
    }
   ],
   "source": [
    "beta.par <- beta.select(list(p=0.5, x=0.1), list(p=0.75, x=0.3))\n",
    "beta.par ## The parameters of the Beta distribution"
   ]
  },
  {
   "cell_type": "code",
   "execution_count": 6,
   "metadata": {
    "collapsed": false
   },
   "outputs": [],
   "source": [
    "## Functions\n",
    "beta.plot <- function(dist,success,failure){\n",
    "  dist + c(success, failure)\n",
    "  options(repr.plot.width=6, repr.plot.height=5)\n",
    "  triplot(dist, c(success,failure))\n",
    "  dist  \n",
    "}\n",
    "\n",
    "post.sim <- function (post, title){\n",
    "  options(repr.plot.width=8, repr.plot.height=5)\n",
    "  post.sample <- rbeta(10000, post[1], post[2])\n",
    "  par(mfrow = c(1,2))\n",
    "  quants = quantile(post.sample, c(0.05, 0.95))\n",
    "  breaks = seq(min(post.sample), max(post.sample), length.out = 41)\n",
    "  hist(post.sample, breaks = breaks, \n",
    "       main = paste('Distribution of ',title,'samples \\n with 90% HDI'),\n",
    "       xlab = 'Sample value',\n",
    "       ylab = 'Density')\n",
    "  abline(v = quants[1], lty = 3, col = 'red', lwd = 3)\n",
    "  abline(v = quants[2], lty = 3, col = 'red', lwd = 3)\n",
    "  qqnorm(post.sample)\n",
    "  par(mfrow = c(1,1))\n",
    "  list(quants,paste(\"Mean: \",mean(post.sample)),paste(\"Median: \",median(post.sample)))\n",
    "}\n",
    "\n",
    "drivers.hund <- function(dist,n,title){\n",
    "  s <- 0:n\n",
    "  pred.probs <- pbetap(dist, n, s)\n",
    "  plot(s, pred.probs, type=\"h\", \n",
    "       main = paste('Prediction of ',title,'drivers texting at the intersection, ', as.character(n), 'trials'),\n",
    "       xlab = 'Successes')\n",
    "  discint(cbind(s, pred.probs), 0.90)\n",
    "  \n",
    "  # This creates a CDF from the PDF. It's ugly from a programming standpoint, I know.\n",
    "  dist.cdf <-rep(0,100)\n",
    "  for (i in seq(1,n,1)){\n",
    "    for (j in seq(1,i,1)) {\n",
    "      dist.cdf[i]<-dist.cdf[i]+pred.probs[j]\n",
    "    }\n",
    "  }\n",
    "  \n",
    "  plot(dist.cdf,main=paste('Cumulative probabilty of',title,'texting drivers'))\n",
    "  \n",
    "  list(\"HDI\" = discint(cbind(s, pred.probs), 0.90),\"CDF\" = dist.cdf,\"PDF\"=pred.probs)\n",
    "}"
   ]
  },
  {
   "cell_type": "markdown",
   "metadata": {},
   "source": [
    "First, plot the prior:"
   ]
  },
  {
   "cell_type": "code",
   "execution_count": 7,
   "metadata": {
    "collapsed": false
   },
   "outputs": [
    {
     "data": {
      "text/html": [
       "<ol class=list-inline>\n",
       "\t<li>0.41</li>\n",
       "\t<li>1.73</li>\n",
       "</ol>\n"
      ],
      "text/latex": [
       "\\begin{enumerate*}\n",
       "\\item 0.41\n",
       "\\item 1.73\n",
       "\\end{enumerate*}\n"
      ],
      "text/markdown": [
       "1. 0.41\n",
       "2. 1.73\n",
       "\n",
       "\n"
      ],
      "text/plain": [
       "[1] 0.41 1.73"
      ]
     },
     "metadata": {},
     "output_type": "display_data"
    },
    {
     "data": {
      "image/png": "[encoded data removed]",
      "text/plain": [
       "Plot with title \"Bayes Triplot, beta( 0.41 , 1.73 ) prior, s= 0 , f= 0\""
      ]
     },
     "metadata": {},
     "output_type": "display_data"
    }
   ],
   "source": [
    "# Plot the Prior\n",
    "beta.plot(beta.par,0,0)"
   ]
  },
  {
   "cell_type": "markdown",
   "metadata": {},
   "source": [
    "Then plot the successive cumulative evidence"
   ]
  },
  {
   "cell_type": "code",
   "execution_count": 8,
   "metadata": {
    "collapsed": false
   },
   "outputs": [
    {
     "data": {
      "text/html": [
       "<ol class=list-inline>\n",
       "\t<li>0.41</li>\n",
       "\t<li>1.73</li>\n",
       "</ol>\n"
      ],
      "text/latex": [
       "\\begin{enumerate*}\n",
       "\\item 0.41\n",
       "\\item 1.73\n",
       "\\end{enumerate*}\n"
      ],
      "text/markdown": [
       "1. 0.41\n",
       "2. 1.73\n",
       "\n",
       "\n"
      ],
      "text/plain": [
       "[1] 0.41 1.73"
      ]
     },
     "metadata": {},
     "output_type": "display_data"
    },
    {
     "data": {
      "image/png": "[encoded data removed]",
      "text/plain": [
       "Plot with title \"Bayes Triplot, beta( 0.41 , 1.73 ) prior, s= 2 , f= 18\""
      ]
     },
     "metadata": {},
     "output_type": "display_data"
    },
    {
     "data": {
      "text/html": [
       "<ol class=list-inline>\n",
       "\t<li>0.41</li>\n",
       "\t<li>1.73</li>\n",
       "</ol>\n"
      ],
      "text/latex": [
       "\\begin{enumerate*}\n",
       "\\item 0.41\n",
       "\\item 1.73\n",
       "\\end{enumerate*}\n"
      ],
      "text/markdown": [
       "1. 0.41\n",
       "2. 1.73\n",
       "\n",
       "\n"
      ],
      "text/plain": [
       "[1] 0.41 1.73"
      ]
     },
     "metadata": {},
     "output_type": "display_data"
    },
    {
     "data": {
      "image/png": "[encoded data removed]",
      "text/plain": [
       "Plot with title \"Bayes Triplot, beta( 0.41 , 1.73 ) prior, s= 6 , f= 34\""
      ]
     },
     "metadata": {},
     "output_type": "display_data"
    },
    {
     "data": {
      "text/html": [
       "<ol class=list-inline>\n",
       "\t<li>0.41</li>\n",
       "\t<li>1.73</li>\n",
       "</ol>\n"
      ],
      "text/latex": [
       "\\begin{enumerate*}\n",
       "\\item 0.41\n",
       "\\item 1.73\n",
       "\\end{enumerate*}\n"
      ],
      "text/markdown": [
       "1. 0.41\n",
       "2. 1.73\n",
       "\n",
       "\n"
      ],
      "text/plain": [
       "[1] 0.41 1.73"
      ]
     },
     "metadata": {},
     "output_type": "display_data"
    },
    {
     "data": {
      "image/png": "[encoded data removed]",
      "text/plain": [
       "Plot with title \"Bayes Triplot, beta( 0.41 , 1.73 ) prior, s= 7 , f= 53\""
      ]
     },
     "metadata": {},
     "output_type": "display_data"
    }
   ],
   "source": [
    "beta.plot(beta.par,2,18) # results for first 20\n",
    "beta.plot(beta.par,6,34) # results after 40\n",
    "beta.plot(beta.par,7,53) # results after 60"
   ]
  },
  {
   "cell_type": "markdown",
   "metadata": {},
   "source": [
    "Simulate from the posterior and compute confidence intervals.  The posterior is just the number of successes relative to the total number of trials:"
   ]
  },
  {
   "cell_type": "code",
   "execution_count": 9,
   "metadata": {
    "collapsed": false
   },
   "outputs": [
    {
     "data": {
      "text/html": [
       "<ol>\n",
       "\t<li><dl class=dl-horizontal>\n",
       "\t<dt>5%</dt>\n",
       "\t\t<dd>0.05910140287822</dd>\n",
       "\t<dt>95%</dt>\n",
       "\t\t<dd>0.192880499364516</dd>\n",
       "</dl>\n",
       "</li>\n",
       "\t<li><span style=white-space:pre-wrap>'Mean:  0.119183194984833'</span></li>\n",
       "\t<li><span style=white-space:pre-wrap>'Median:  0.115150499163647'</span></li>\n",
       "</ol>\n"
      ],
      "text/latex": [
       "\\begin{enumerate}\n",
       "\\item \\begin{description*}\n",
       "\\item[5\\textbackslash{}\\%] 0.05910140287822\n",
       "\\item[95\\textbackslash{}\\%] 0.192880499364516\n",
       "\\end{description*}\n",
       "\n",
       "\\item 'Mean:  0.119183194984833'\n",
       "\\item 'Median:  0.115150499163647'\n",
       "\\end{enumerate}\n"
      ],
      "text/markdown": [
       "1. 5%\n",
       ":   0.0591014028782295%\n",
       ":   0.192880499364516\n",
       "\n",
       "\n",
       "2. <span style=white-space:pre-wrap>'Mean:  0.119183194984833'</span>\n",
       "3. <span style=white-space:pre-wrap>'Median:  0.115150499163647'</span>\n",
       "\n",
       "\n"
      ],
      "text/plain": [
       "[[1]]\n",
       "       5%       95% \n",
       "0.0591014 0.1928805 \n",
       "\n",
       "[[2]]\n",
       "[1] \"Mean:  0.119183194984833\"\n",
       "\n",
       "[[3]]\n",
       "[1] \"Median:  0.115150499163647\"\n"
      ]
     },
     "metadata": {},
     "output_type": "display_data"
    },
    {
     "data": {
      "image/png": "[encoded data removed]",
      "text/plain": [
       "Plot with title \"Normal Q-Q Plot\""
      ]
     },
     "metadata": {},
     "output_type": "display_data"
    },
    {
     "data": {
      "text/html": [
       "<ol>\n",
       "\t<li><dl class=dl-horizontal>\n",
       "\t<dt>5%</dt>\n",
       "\t\t<dd>0.000376979699723255</dd>\n",
       "\t<dt>95%</dt>\n",
       "\t\t<dd>0.680290900791562</dd>\n",
       "</dl>\n",
       "</li>\n",
       "\t<li><span style=white-space:pre-wrap>'Mean:  0.190381634543949'</span></li>\n",
       "\t<li><span style=white-space:pre-wrap>'Median:  0.0983821614830116'</span></li>\n",
       "</ol>\n"
      ],
      "text/latex": [
       "\\begin{enumerate}\n",
       "\\item \\begin{description*}\n",
       "\\item[5\\textbackslash{}\\%] 0.000376979699723255\n",
       "\\item[95\\textbackslash{}\\%] 0.680290900791562\n",
       "\\end{description*}\n",
       "\n",
       "\\item 'Mean:  0.190381634543949'\n",
       "\\item 'Median:  0.0983821614830116'\n",
       "\\end{enumerate}\n"
      ],
      "text/markdown": [
       "1. 5%\n",
       ":   0.00037697969972325595%\n",
       ":   0.680290900791562\n",
       "\n",
       "\n",
       "2. <span style=white-space:pre-wrap>'Mean:  0.190381634543949'</span>\n",
       "3. <span style=white-space:pre-wrap>'Median:  0.0983821614830116'</span>\n",
       "\n",
       "\n"
      ],
      "text/plain": [
       "[[1]]\n",
       "          5%          95% \n",
       "0.0003769797 0.6802909008 \n",
       "\n",
       "[[2]]\n",
       "[1] \"Mean:  0.190381634543949\"\n",
       "\n",
       "[[3]]\n",
       "[1] \"Median:  0.0983821614830116\"\n"
      ]
     },
     "metadata": {},
     "output_type": "display_data"
    },
    {
     "data": {
      "image/png": "[encoded data removed]",
      "text/plain": [
       "Plot with title \"Normal Q-Q Plot\""
      ]
     },
     "metadata": {},
     "output_type": "display_data"
    }
   ],
   "source": [
    "beta.post.par <- beta.par + c(2+4+1,18+16+19)\n",
    "\n",
    "post.sim.local <- post.sim(beta.post.par, \"Local Drivers\")\n",
    "post.sim.local\n",
    "post.sim.natl <-post.sim(beta.par,\"National Average\")\n",
    "post.sim.natl"
   ]
  },
  {
   "cell_type": "markdown",
   "metadata": {},
   "source": [
    "The plot below shows that 7 successes out of 60 observations is near the most probable number - 7 drivers out of 60 are most likely to be texting"
   ]
  },
  {
   "cell_type": "code",
   "execution_count": 10,
   "metadata": {
    "collapsed": false
   },
   "outputs": [
    {
     "data": {
      "image/png": "[encoded data removed]",
      "text/plain": [
       "Plot with title \"Predictive Dist., beta( 7.41 , 54.73 ) prior, n= 60 , yobs= 7\""
      ]
     },
     "metadata": {},
     "output_type": "display_data"
    }
   ],
   "source": [
    "predplot(beta.post.par, 60, 7)"
   ]
  },
  {
   "cell_type": "markdown",
   "metadata": {},
   "source": [
    "Now look at 100 drivers, both locally and nationally"
   ]
  },
  {
   "cell_type": "code",
   "execution_count": 11,
   "metadata": {
    "collapsed": false,
    "scrolled": false
   },
   "outputs": [
    {
     "data": {
      "image/png": "[encoded data removed]",
      "text/plain": [
       "Plot with title \"Prediction of  Local drivers texting at the intersection,  100 trials\""
      ]
     },
     "metadata": {},
     "output_type": "display_data"
    },
    {
     "data": {
      "text/html": [
       "<dl>\n",
       "\t<dt>$prob</dt>\n",
       "\t\t<dd>0.909895592143919</dd>\n",
       "\t<dt>$set</dt>\n",
       "\t\t<dd><ol class=list-inline>\n",
       "\t<li>4</li>\n",
       "\t<li>5</li>\n",
       "\t<li>6</li>\n",
       "\t<li>7</li>\n",
       "\t<li>8</li>\n",
       "\t<li>9</li>\n",
       "\t<li>10</li>\n",
       "\t<li>11</li>\n",
       "\t<li>12</li>\n",
       "\t<li>13</li>\n",
       "\t<li>14</li>\n",
       "\t<li>15</li>\n",
       "\t<li>16</li>\n",
       "\t<li>17</li>\n",
       "\t<li>18</li>\n",
       "\t<li>19</li>\n",
       "\t<li>20</li>\n",
       "</ol>\n",
       "</dd>\n",
       "</dl>\n"
      ],
      "text/latex": [
       "\\begin{description}\n",
       "\\item[\\$prob] 0.909895592143919\n",
       "\\item[\\$set] \\begin{enumerate*}\n",
       "\\item 4\n",
       "\\item 5\n",
       "\\item 6\n",
       "\\item 7\n",
       "\\item 8\n",
       "\\item 9\n",
       "\\item 10\n",
       "\\item 11\n",
       "\\item 12\n",
       "\\item 13\n",
       "\\item 14\n",
       "\\item 15\n",
       "\\item 16\n",
       "\\item 17\n",
       "\\item 18\n",
       "\\item 19\n",
       "\\item 20\n",
       "\\end{enumerate*}\n",
       "\n",
       "\\end{description}\n"
      ],
      "text/markdown": [
       "$prob\n",
       ":   0.909895592143919\n",
       "$set\n",
       ":   1. 4\n",
       "2. 5\n",
       "3. 6\n",
       "4. 7\n",
       "5. 8\n",
       "6. 9\n",
       "7. 10\n",
       "8. 11\n",
       "9. 12\n",
       "10. 13\n",
       "11. 14\n",
       "12. 15\n",
       "13. 16\n",
       "14. 17\n",
       "15. 18\n",
       "16. 19\n",
       "17. 20\n",
       "\n",
       "\n",
       "\n",
       "\n",
       "\n"
      ],
      "text/plain": [
       "$prob\n",
       "[1] 0.9098956\n",
       "\n",
       "$set\n",
       " [1]  4  5  6  7  8  9 10 11 12 13 14 15 16 17 18 19 20\n"
      ]
     },
     "metadata": {},
     "output_type": "display_data"
    },
    {
     "data": {
      "image/png": "[encoded data removed]",
      "text/plain": [
       "Plot with title \"Cumulative probabilty of Local texting drivers\""
      ]
     },
     "metadata": {},
     "output_type": "display_data"
    },
    {
     "data": {
      "image/png": "[encoded data removed]",
      "text/plain": [
       "Plot with title \"Prediction of  National drivers texting at the intersection,  100 trials\""
      ]
     },
     "metadata": {},
     "output_type": "display_data"
    },
    {
     "data": {
      "text/html": [
       "<dl>\n",
       "\t<dt>$prob</dt>\n",
       "\t\t<dd>0.903897337521353</dd>\n",
       "\t<dt>$set</dt>\n",
       "\t\t<dd><ol class=list-inline>\n",
       "\t<li>0</li>\n",
       "\t<li>1</li>\n",
       "\t<li>2</li>\n",
       "\t<li>3</li>\n",
       "\t<li>4</li>\n",
       "\t<li>5</li>\n",
       "\t<li>6</li>\n",
       "\t<li>7</li>\n",
       "\t<li>8</li>\n",
       "\t<li>9</li>\n",
       "\t<li>10</li>\n",
       "\t<li>11</li>\n",
       "\t<li>12</li>\n",
       "\t<li>13</li>\n",
       "\t<li>14</li>\n",
       "\t<li>15</li>\n",
       "\t<li>16</li>\n",
       "\t<li>17</li>\n",
       "\t<li>18</li>\n",
       "\t<li>19</li>\n",
       "\t<li>20</li>\n",
       "\t<li>21</li>\n",
       "\t<li>22</li>\n",
       "\t<li>23</li>\n",
       "\t<li>24</li>\n",
       "\t<li>25</li>\n",
       "\t<li>26</li>\n",
       "\t<li>27</li>\n",
       "\t<li>28</li>\n",
       "\t<li>29</li>\n",
       "\t<li>30</li>\n",
       "\t<li>31</li>\n",
       "\t<li>32</li>\n",
       "\t<li>33</li>\n",
       "\t<li>34</li>\n",
       "\t<li>35</li>\n",
       "\t<li>36</li>\n",
       "\t<li>37</li>\n",
       "\t<li>38</li>\n",
       "\t<li>39</li>\n",
       "\t<li>40</li>\n",
       "\t<li>41</li>\n",
       "\t<li>42</li>\n",
       "\t<li>43</li>\n",
       "\t<li>44</li>\n",
       "\t<li>45</li>\n",
       "\t<li>46</li>\n",
       "\t<li>47</li>\n",
       "\t<li>48</li>\n",
       "\t<li>49</li>\n",
       "\t<li>50</li>\n",
       "\t<li>51</li>\n",
       "\t<li>52</li>\n",
       "\t<li>53</li>\n",
       "\t<li>54</li>\n",
       "\t<li>55</li>\n",
       "</ol>\n",
       "</dd>\n",
       "</dl>\n"
      ],
      "text/latex": [
       "\\begin{description}\n",
       "\\item[\\$prob] 0.903897337521353\n",
       "\\item[\\$set] \\begin{enumerate*}\n",
       "\\item 0\n",
       "\\item 1\n",
       "\\item 2\n",
       "\\item 3\n",
       "\\item 4\n",
       "\\item 5\n",
       "\\item 6\n",
       "\\item 7\n",
       "\\item 8\n",
       "\\item 9\n",
       "\\item 10\n",
       "\\item 11\n",
       "\\item 12\n",
       "\\item 13\n",
       "\\item 14\n",
       "\\item 15\n",
       "\\item 16\n",
       "\\item 17\n",
       "\\item 18\n",
       "\\item 19\n",
       "\\item 20\n",
       "\\item 21\n",
       "\\item 22\n",
       "\\item 23\n",
       "\\item 24\n",
       "\\item 25\n",
       "\\item 26\n",
       "\\item 27\n",
       "\\item 28\n",
       "\\item 29\n",
       "\\item 30\n",
       "\\item 31\n",
       "\\item 32\n",
       "\\item 33\n",
       "\\item 34\n",
       "\\item 35\n",
       "\\item 36\n",
       "\\item 37\n",
       "\\item 38\n",
       "\\item 39\n",
       "\\item 40\n",
       "\\item 41\n",
       "\\item 42\n",
       "\\item 43\n",
       "\\item 44\n",
       "\\item 45\n",
       "\\item 46\n",
       "\\item 47\n",
       "\\item 48\n",
       "\\item 49\n",
       "\\item 50\n",
       "\\item 51\n",
       "\\item 52\n",
       "\\item 53\n",
       "\\item 54\n",
       "\\item 55\n",
       "\\end{enumerate*}\n",
       "\n",
       "\\end{description}\n"
      ],
      "text/markdown": [
       "$prob\n",
       ":   0.903897337521353\n",
       "$set\n",
       ":   1. 0\n",
       "2. 1\n",
       "3. 2\n",
       "4. 3\n",
       "5. 4\n",
       "6. 5\n",
       "7. 6\n",
       "8. 7\n",
       "9. 8\n",
       "10. 9\n",
       "11. 10\n",
       "12. 11\n",
       "13. 12\n",
       "14. 13\n",
       "15. 14\n",
       "16. 15\n",
       "17. 16\n",
       "18. 17\n",
       "19. 18\n",
       "20. 19\n",
       "21. 20\n",
       "22. 21\n",
       "23. 22\n",
       "24. 23\n",
       "25. 24\n",
       "26. 25\n",
       "27. 26\n",
       "28. 27\n",
       "29. 28\n",
       "30. 29\n",
       "31. 30\n",
       "32. 31\n",
       "33. 32\n",
       "34. 33\n",
       "35. 34\n",
       "36. 35\n",
       "37. 36\n",
       "38. 37\n",
       "39. 38\n",
       "40. 39\n",
       "41. 40\n",
       "42. 41\n",
       "43. 42\n",
       "44. 43\n",
       "45. 44\n",
       "46. 45\n",
       "47. 46\n",
       "48. 47\n",
       "49. 48\n",
       "50. 49\n",
       "51. 50\n",
       "52. 51\n",
       "53. 52\n",
       "54. 53\n",
       "55. 54\n",
       "56. 55\n",
       "\n",
       "\n",
       "\n",
       "\n",
       "\n"
      ],
      "text/plain": [
       "$prob\n",
       "[1] 0.9038973\n",
       "\n",
       "$set\n",
       " [1]  0  1  2  3  4  5  6  7  8  9 10 11 12 13 14 15 16 17 18 19 20 21 22 23 24\n",
       "[26] 25 26 27 28 29 30 31 32 33 34 35 36 37 38 39 40 41 42 43 44 45 46 47 48 49\n",
       "[51] 50 51 52 53 54 55\n"
      ]
     },
     "metadata": {},
     "output_type": "display_data"
    },
    {
     "data": {
      "image/png": "[encoded data removed]",
      "text/plain": [
       "Plot with title \"Cumulative probabilty of National texting drivers\""
      ]
     },
     "metadata": {},
     "output_type": "display_data"
    }
   ],
   "source": [
    "local.pred <- drivers.hund(beta.post.par,100,'Local')\n",
    "local.pred$HDI\n",
    "natl.pred <- drivers.hund(beta.par,100,'National')\n",
    "natl.pred$HDI"
   ]
  },
  {
   "cell_type": "markdown",
   "metadata": {},
   "source": [
    "Compare the PDFs:"
   ]
  },
  {
   "cell_type": "code",
   "execution_count": 12,
   "metadata": {
    "collapsed": false
   },
   "outputs": [
    {
     "data": {
      "image/png": "[encoded data removed]",
      "text/plain": [
       "Plot with title \"Comparison of Local and National Drivers\""
      ]
     },
     "metadata": {},
     "output_type": "display_data"
    }
   ],
   "source": [
    "# Plot PDFs\n",
    "plot(local.pred$PDF,type=\"l\",col=\"red\",xaxt=\"n\",yaxt=\"n\",xlab=\"\",ylab=\"\",ylim=c(0,.2))\n",
    "par(new=TRUE)\n",
    "plot(natl.pred$PDF,type='l',col =\"blue\",xlab=\"\",ylab=\"\")\n",
    "title(\"Comparison of Local and National Drivers\",xlab=\"Number of Drivers\",ylab=\"Probability\")\n",
    "legend(\"topright\",lwd=c(2,2),col=c(\"red\",\"blue\"),legend=c(\"Local\",\"National\"))"
   ]
  },
  {
   "cell_type": "markdown",
   "metadata": {},
   "source": [
    "Locally, it is most likely (7.8%) that 11 drivers out of 100 are texting at any given time, but nationally, it is more  likely (17.5%) that one driver is texting.\n",
    "\n",
    "Another view on this can be had by comparing the CDFs:"
   ]
  },
  {
   "cell_type": "code",
   "execution_count": 13,
   "metadata": {
    "collapsed": false
   },
   "outputs": [
    {
     "data": {
      "image/png": "[encoded data removed]",
      "text/plain": [
       "Plot with title \"Comparison of texting by Local and National Drivers\""
      ]
     },
     "metadata": {},
     "output_type": "display_data"
    }
   ],
   "source": [
    "plot(local.pred$CDF,type=\"l\",col=\"red\",xlab=\"\",ylab=\"\")\n",
    "par(new=TRUE)\n",
    "plot(natl.pred$CDF,type='l',col =\"blue\",xaxt=\"n\",yaxt=\"n\",xlab=\"\",ylab=\"\")\n",
    "title(\"Comparison of texting by Local and National Drivers\",xlab=\"Number of Drivers\",ylab=\"Cumulative Probability\")\n",
    "legend(\"bottomright\",lwd=c(2,2),col=c(\"red\",\"blue\"),legend=c(\"Local\",\"National\"))"
   ]
  },
  {
   "cell_type": "markdown",
   "metadata": {},
   "source": [
    "Based on this plot and the HDI numbers, I conclude that local drivers text less than nationally, since it is unlikely to see more than about 20 local drivers texting, while nationally, it is possible with 90% confidence to see up to about 55 drivers texting at any given time.  "
   ]
  }
 ],
 "metadata": {
  "anaconda-cloud": {},
  "kernelspec": {
   "display_name": "R",
   "language": "R",
   "name": "ir"
  },
  "language_info": {
   "codemirror_mode": "r",
   "file_extension": ".r",
   "mimetype": "text/x-r-source",
   "name": "R",
   "pygments_lexer": "r",
   "version": "3.3.1"
  }
 },
 "nbformat": 4,
 "nbformat_minor": 1
}
