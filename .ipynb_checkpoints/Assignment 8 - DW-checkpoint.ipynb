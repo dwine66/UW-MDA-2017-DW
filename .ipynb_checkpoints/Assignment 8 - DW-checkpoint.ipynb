{
 "cells": [
  {
   "cell_type": "markdown",
   "metadata": {},
   "source": [
    "# UW Data Science 350\n",
    "## Winter 2017\n",
    "### Dave Wine 8430191\n",
    "### Assignment #8 - Time Series Analysis"
   ]
  },
  {
   "cell_type": "markdown",
   "metadata": {},
   "source": [
    "# Summary\n",
    "1. "
   ]
  },
  {
   "cell_type": "code",
   "execution_count": null,
   "metadata": {
    "collapsed": true
   },
   "outputs": [],
   "source": [
    "### Libraries\n",
    "require ('repr')\n",
    "require ('ggplot2')\n",
    "require ('dplyr')\n",
    "require ('HistData')\n",
    "require ('gridExtra')\n",
    "require ('forecast')"
   ]
  },
  {
   "cell_type": "code",
   "execution_count": null,
   "metadata": {
    "collapsed": true
   },
   "outputs": [],
   "source": [
    "### Functions\n",
    "\n",
    "# File read function\n",
    "read.datafile = function(file = 'Automobile price data _Raw_.csv',skip=0){\n",
    "  datafile.data <- read.csv(file, header=TRUE, stringsAsFactors=FALSE,skip=skip)\n",
    "\n",
    "}\n",
    "\n",
    "## Plot\n",
    "dist.ts = function(df, col = 'residual', bins = 40){\n",
    "  par(mfrow = c(1,2))\n",
    "  temp = as.vector(df)\n",
    "  breaks = seq(min(temp), max(temp), length.out = (bins + 1))\n",
    "  hist(temp, breaks = breaks, main = paste('Distribution of ', col), xlab = col)\n",
    "  qqnorm(temp, main = paste('Normal Q-Q plot of ', col))\n",
    "  par(mfrow = c(1,1))\n",
    "}\n",
    "\n",
    "## ACF plots\n",
    "plot.acf <- function(df, col = 'remainder', is.df =TRUE){\n",
    "  if(is.df) temp <- df[, col]\n",
    "  else temp <- df\n",
    "  par(mfrow = c(2,1))\n",
    "  acf(temp, main = paste('ACF of', col))\n",
    "  pacf(temp, main = paste('PACF of', col))\n",
    "  par(mfrow = c(1,1))\n",
    "}\n",
    "\n",
    "## Decomposition of the time series into components\n",
    "ts.decomp <- function(df, col = 'elec.ts', span = 0.5, Mult = TRUE, is.df = TRUE){\n",
    "  # if(Mult) temp = log(df[, col])  else temp = ts(df[, col]\n",
    "  if(is.df) temp = log(df[, col])  \n",
    "  else temp = df\n",
    "  spans = span * length(temp)  \n",
    "  fit <- stl(temp, s.window = \"periodic\", t.window = spans)\n",
    "  plot(fit, main = paste('Decompositon of',col,'with lowess span = ', as.character(span)))\n",
    "  fit$time.series\n",
    "}\n",
    "\n",
    "## Function for ARIMA model estimation\n",
    "ts.model = function(ts, col = 'remainder', order = c(0,0,1)){\n",
    "  mod = arima(ts, order = order, include.mean = FALSE)\n",
    "  print(mod)\n",
    "  mod\n",
    "}\n"
   ]
  },
  {
   "cell_type": "code",
   "execution_count": null,
   "metadata": {
    "collapsed": true
   },
   "outputs": [],
   "source": [
    "### Main Code\n",
    "wd <- \"C:/Users/Dave/Documents/GitHub/DataScience350/DataScience350/Lecture8/\"\n",
    "setwd(wd)\n",
    "\n",
    "# Read in dairy data\n",
    "dairy.data <-read.datafile(\"CADairyProduction.csv\")\n",
    "\n",
    "## Do ice cream\n",
    "\n",
    "## STL decomposition\n",
    "icrm <-ts(dairy.data[,4],start = dairy.data[1,1],freq=12)\n",
    "icrm.decomp <- ts.decomp(icrm, Mult=TRUE, is.df=FALSE,span =0.5)\n",
    "\n",
    "## Plot ACF\n",
    "options(repr.pmales.extlot.width=8, repr.plot.height=6)\n",
    "plot.acf(icrm.decomp[, 3], is.df = FALSE)\n",
    "\n",
    "## RIMA modeling\n",
    "icrm.arima = ts.model(icrm.decomp[, 3], col = 'ARIMA model for electricity', order = c(2,1,2))\n",
    "plot.acf(icrm.arima$resid[-1], is.df = FALSE)\n",
    "\n",
    "## Forecasting\n",
    "fit.icrm = auto.arima(icrm, max.p=3, max.q=3,\n",
    "                       max.P=2, max.Q=2, max.order=5, max.d=2, max.D=1,\n",
    "                       start.p=0, start.q=0, start.P=0, start.Q=0)\n",
    "summary(fit.icrm)\n",
    "\n",
    "## Make the forecast for the next year\n",
    "elect.forecast = forecast(fit.icrm, h=12)\n",
    "summary(elect.forecast)\n",
    "plot(elect.forecast)"
   ]
  }
 ],
 "metadata": {
  "anaconda-cloud": {},
  "kernelspec": {
   "display_name": "R",
   "language": "R",
   "name": "ir"
  },
  "language_info": {
   "codemirror_mode": "r",
   "file_extension": ".r",
   "mimetype": "text/x-r-source",
   "name": "R",
   "pygments_lexer": "r",
   "version": "3.3.1"
  }
 },
 "nbformat": 4,
 "nbformat_minor": 1
}
