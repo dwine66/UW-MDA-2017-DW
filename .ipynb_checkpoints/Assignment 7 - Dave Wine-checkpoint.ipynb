{
 "cells": [
  {
   "cell_type": "markdown",
   "metadata": {},
   "source": [
    "# UW Data Science 350\n",
    "## Winter 2017\n",
    "### Dave Wine 8430191\n",
    "### Assignment #7 - Regression"
   ]
  },
  {
   "cell_type": "code",
   "execution_count": null,
   "metadata": {
    "collapsed": true
   },
   "outputs": [],
   "source": [
    "## Libraries\n",
    "require ('MASS')\n",
    "require ('repr')\n",
    "require ('ggplot2')\n",
    "require ('dplyr')\n",
    "require ('HistData')\n",
    "require ('glmnet')\n",
    "require ('gridextra')"
   ]
  }
 ],
 "metadata": {
  "anaconda-cloud": {},
  "kernelspec": {
   "display_name": "R",
   "language": "R",
   "name": "ir"
  },
  "language_info": {
   "codemirror_mode": "r",
   "file_extension": ".r",
   "mimetype": "text/x-r-source",
   "name": "R",
   "pygments_lexer": "r",
   "version": "3.3.1"
  }
 },
 "nbformat": 4,
 "nbformat_minor": 1
}
