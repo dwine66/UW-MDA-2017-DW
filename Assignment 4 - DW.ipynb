{
 "cells": [
  {
   "cell_type": "markdown",
   "metadata": {},
   "source": [
    "UW Data Science 350 - Winter 2017\n",
    "Dave Wine - 8430191\n",
    "Assignment 4 - ANOVA"
   ]
  },
  {
   "cell_type": "code",
   "execution_count": 7,
   "metadata": {
    "collapsed": false
   },
   "outputs": [],
   "source": [
    "# Set working directory\n",
    "setwd(\"~/GitHub/UW-MDA-2017-DW\")\n",
    "\n",
    "# Import packages\n",
    "require(ggplot2)\n",
    "require(car)\n",
    "require(plyr)\n",
    "require(dplyr)"
   ]
  },
  {
   "cell_type": "code",
   "execution_count": 8,
   "metadata": {
    "collapsed": true
   },
   "outputs": [],
   "source": [
    "# Functions\n",
    "\n",
    "# File read function\n",
    "read.auto = function(file = 'Automobile price data _Raw_.csv'){\n",
    "  auto.data <- read.csv(file, header=TRUE, stringsAsFactors=FALSE)\n",
    "  \n",
    "  numcols <- c('price','peak.rpm')\n",
    "  auto.data[, numcols]<-lapply(auto.data[,numcols], as.numeric)\n",
    "  \n",
    "  factcols <- c('fuel.type','aspiration','drive.wheels','body.style')\n",
    "  auto.data[, factcols]<-lapply(auto.data[,factcols], as.factor)\n",
    "\n",
    "  auto.data[complete.cases(auto.data),]\n",
    "}\n",
    "\n",
    "# Histogram Plot Function\n",
    "plot.t <- function(a, b, cols = c(a, b), nbins = 20){\n",
    "  maxs = max(c(max(a), max(b)))\n",
    "  mins = min(c(min(a), min(b)))\n",
    "  breaks = seq(maxs, mins, length.out = (nbins + 1))\n",
    "  par(mfrow = c(2, 1))\n",
    "  hist(a, breaks = breaks, main = paste('Histogram of', cols[1]), xlab = cols[1])\n",
    "  abline(v = mean(a), lwd = 4, col = 'red')\n",
    "  hist(b, breaks = breaks, main = paste('Histogram of', cols[2]), xlab = cols[2])\n",
    "  abline(v = mean(b), lwd = 4, col = 'red')\n",
    "  par(mfrow = c(1, 1))\n",
    "}\n",
    "\n",
    "# ANOVA Plot Function\n",
    "ANOVA.plot <- function (df){\n",
    "df$group = factor(df$group) # Make sure your groups are a factor (for further analysis below)\n",
    "boxplot(df$val ~ df$group)\n",
    "\n",
    "df_aov = aov(val ~ group, data = df)\n",
    "summary(df_aov)\n",
    "print(df_aov)\n",
    "\n",
    "tukey_aov = TukeyHSD(df_aov)  # Tukey's Range test:\n",
    "tukey_aov\n",
    "plot(tukey_aov)\n",
    "}"
   ]
  },
  {
   "cell_type": "markdown",
   "metadata": {},
   "source": [
    "Read data into a dataframe:"
   ]
  },
  {
   "cell_type": "code",
   "execution_count": 9,
   "metadata": {
    "collapsed": false
   },
   "outputs": [
    {
     "name": "stderr",
     "output_type": "stream",
     "text": [
      "Warning message in lapply(auto.data[, numcols], as.numeric):\n",
      "\"NAs introduced by coercion\"Warning message in lapply(auto.data[, numcols], as.numeric):\n",
      "\"NAs introduced by coercion\""
     ]
    },
    {
     "name": "stdout",
     "output_type": "stream",
     "text": [
      "'data.frame':\t199 obs. of  26 variables:\n",
      " $ symboling        : int  3 3 1 2 2 2 1 1 1 2 ...\n",
      " $ normalized.losses: chr  \"?\" \"?\" \"?\" \"164\" ...\n",
      " $ make             : chr  \"alfa-romero\" \"alfa-romero\" \"alfa-romero\" \"audi\" ...\n",
      " $ fuel.type        : Factor w/ 2 levels \"diesel\",\"gas\": 2 2 2 2 2 2 2 2 2 2 ...\n",
      " $ aspiration       : Factor w/ 2 levels \"std\",\"turbo\": 1 1 1 1 1 1 1 1 2 1 ...\n",
      " $ num.of.doors     : chr  \"two\" \"two\" \"two\" \"four\" ...\n",
      " $ body.style       : Factor w/ 5 levels \"convertible\",..: 1 1 3 4 4 4 4 5 4 4 ...\n",
      " $ drive.wheels     : Factor w/ 3 levels \"4wd\",\"fwd\",\"rwd\": 3 3 3 2 1 2 2 2 2 3 ...\n",
      " $ engine.location  : chr  \"front\" \"front\" \"front\" \"front\" ...\n",
      " $ wheel.base       : num  88.6 88.6 94.5 99.8 99.4 ...\n",
      " $ length           : num  169 169 171 177 177 ...\n",
      " $ width            : num  64.1 64.1 65.5 66.2 66.4 66.3 71.4 71.4 71.4 64.8 ...\n",
      " $ height           : num  48.8 48.8 52.4 54.3 54.3 53.1 55.7 55.7 55.9 54.3 ...\n",
      " $ curb.weight      : int  2548 2548 2823 2337 2824 2507 2844 2954 3086 2395 ...\n",
      " $ engine.type      : chr  \"dohc\" \"dohc\" \"ohcv\" \"ohc\" ...\n",
      " $ num.of.cylinders : chr  \"four\" \"four\" \"six\" \"four\" ...\n",
      " $ engine.size      : int  130 130 152 109 136 136 136 136 131 108 ...\n",
      " $ fuel.system      : chr  \"mpfi\" \"mpfi\" \"mpfi\" \"mpfi\" ...\n",
      " $ bore             : chr  \"3.47\" \"3.47\" \"2.68\" \"3.19\" ...\n",
      " $ stroke           : chr  \"2.68\" \"2.68\" \"3.47\" \"3.40\" ...\n",
      " $ compression.ratio: num  9 9 9 10 8 8.5 8.5 8.5 8.3 8.8 ...\n",
      " $ horsepower       : chr  \"111\" \"111\" \"154\" \"102\" ...\n",
      " $ peak.rpm         : num  5000 5000 5000 5500 5500 5500 5500 5500 5500 5800 ...\n",
      " $ city.mpg         : int  21 21 19 24 18 19 19 19 17 23 ...\n",
      " $ highway.mpg      : int  27 27 26 30 22 25 25 25 20 29 ...\n",
      " $ price            : num  13495 16500 16500 13950 17450 ...\n"
     ]
    },
    {
     "data": {
      "text/plain": [
       "   symboling       normalized.losses      make            fuel.type  \n",
       " Min.   :-2.0000   Length:199         Length:199         diesel: 20  \n",
       " 1st Qu.: 0.0000   Class :character   Class :character   gas   :179  \n",
       " Median : 1.0000   Mode  :character   Mode  :character               \n",
       " Mean   : 0.8392                                                     \n",
       " 3rd Qu.: 2.0000                                                     \n",
       " Max.   : 3.0000                                                     \n",
       " aspiration  num.of.doors             body.style drive.wheels\n",
       " std  :163   Length:199         convertible: 6   4wd:  8     \n",
       " turbo: 36   Class :character   hardtop    : 8   fwd:116     \n",
       "             Mode  :character   hatchback  :67   rwd: 75     \n",
       "                                sedan      :94               \n",
       "                                wagon      :24               \n",
       "                                                             \n",
       " engine.location      wheel.base         length          width      \n",
       " Length:199         Min.   : 86.60   Min.   :141.1   Min.   :60.30  \n",
       " Class :character   1st Qu.: 94.50   1st Qu.:166.6   1st Qu.:64.10  \n",
       " Mode  :character   Median : 97.00   Median :173.2   Median :65.50  \n",
       "                    Mean   : 98.82   Mean   :174.2   Mean   :65.88  \n",
       "                    3rd Qu.:102.40   3rd Qu.:183.5   3rd Qu.:66.70  \n",
       "                    Max.   :120.90   Max.   :208.1   Max.   :72.00  \n",
       "     height       curb.weight   engine.type        num.of.cylinders  \n",
       " Min.   :47.80   Min.   :1488   Length:199         Length:199        \n",
       " 1st Qu.:52.00   1st Qu.:2157   Class :character   Class :character  \n",
       " Median :54.10   Median :2414   Mode  :character   Mode  :character  \n",
       " Mean   :53.78   Mean   :2556                                        \n",
       " 3rd Qu.:55.55   3rd Qu.:2930                                        \n",
       " Max.   :59.80   Max.   :4066                                        \n",
       "  engine.size    fuel.system            bore              stroke         \n",
       " Min.   : 61.0   Length:199         Length:199         Length:199        \n",
       " 1st Qu.: 97.5   Class :character   Class :character   Class :character  \n",
       " Median :119.0   Mode  :character   Mode  :character   Mode  :character  \n",
       " Mean   :126.8                                                           \n",
       " 3rd Qu.:143.0                                                           \n",
       " Max.   :326.0                                                           \n",
       " compression.ratio  horsepower           peak.rpm       city.mpg   \n",
       " Min.   : 7.00     Length:199         Min.   :4150   Min.   :13.0  \n",
       " 1st Qu.: 8.55     Class :character   1st Qu.:4800   1st Qu.:19.0  \n",
       " Median : 9.00     Mode  :character   Median :5200   Median :24.0  \n",
       " Mean   :10.18                        Mean   :5118   Mean   :25.2  \n",
       " 3rd Qu.: 9.40                        3rd Qu.:5500   3rd Qu.:30.0  \n",
       " Max.   :23.00                        Max.   :6600   Max.   :49.0  \n",
       "  highway.mpg        price      \n",
       " Min.   :16.00   Min.   : 5118  \n",
       " 1st Qu.:25.00   1st Qu.: 7775  \n",
       " Median :30.00   Median :10345  \n",
       " Mean   :30.68   Mean   :13243  \n",
       " 3rd Qu.:34.00   3rd Qu.:16502  \n",
       " Max.   :54.00   Max.   :45400  "
      ]
     },
     "metadata": {},
     "output_type": "display_data"
    }
   ],
   "source": [
    "# Read data in\n",
    "auto.data = read.auto()\n",
    "\n",
    "# View dataset and summary statistics\n",
    "str(auto.data)\n",
    "summary(auto.data)"
   ]
  },
  {
   "cell_type": "code",
   "execution_count": null,
   "metadata": {
    "collapsed": true
   },
   "outputs": [],
   "source": []
  }
 ],
 "metadata": {
  "anaconda-cloud": {},
  "kernelspec": {
   "display_name": "R",
   "language": "R",
   "name": "ir"
  },
  "language_info": {
   "codemirror_mode": "r",
   "file_extension": ".r",
   "mimetype": "text/x-r-source",
   "name": "R",
   "pygments_lexer": "r",
   "version": "3.3.1"
  }
 },
 "nbformat": 4,
 "nbformat_minor": 1
}
