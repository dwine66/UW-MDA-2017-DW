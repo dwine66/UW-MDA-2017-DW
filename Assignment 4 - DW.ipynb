{
 "cells": [
  {
   "cell_type": "markdown",
   "metadata": {},
   "source": [
    "# UW Data Science 350 - Winter 2017\n",
    "Dave Wine - 8430191\n",
    "Assignment 4 - ANOVA"
   ]
  },
  {
   "cell_type": "markdown",
   "metadata": {},
   "source": [
    "Summary:\n",
    "1. Neither price nor log(price) is normally distributed.  log(price) is somewhat closer to normal.\n",
    "2. Fuel Type (Gas vs. Diesel) does not influence log(price) at a 95% confidence level.\n",
    "3. Aspiration does influence price at a 95% confidence level - Turbos are on average more expensive than standard.\n",
    "4. Drive type also influences price at a 95% confidence level - rwd are on average more expensive than fwd.\n",
    "5. The number of doors does not influence price at a 95% confidence level.\n",
    "6. At a 95% confidence level, there is no significant price difference between wagons and sedans, but there is for both wagons and hatchbacks and hatchbacks vs. sedans."
   ]
  },
  {
   "cell_type": "code",
   "execution_count": 5,
   "metadata": {
    "collapsed": false
   },
   "outputs": [
    {
     "name": "stderr",
     "output_type": "stream",
     "text": [
      "Loading required package: ggplot2\n",
      "Warning message:\n",
      "\"package 'ggplot2' was built under R version 3.3.2\"Loading required package: car\n",
      "Warning message:\n",
      "\"package 'car' was built under R version 3.3.2\"Loading required package: plyr\n",
      "Warning message:\n",
      "\"package 'plyr' was built under R version 3.3.2\"Loading required package: dplyr\n",
      "Warning message:\n",
      "\"package 'dplyr' was built under R version 3.3.2\"\n",
      "Attaching package: 'dplyr'\n",
      "\n",
      "The following objects are masked from 'package:plyr':\n",
      "\n",
      "    arrange, count, desc, failwith, id, mutate, rename, summarise,\n",
      "    summarize\n",
      "\n",
      "The following object is masked from 'package:car':\n",
      "\n",
      "    recode\n",
      "\n",
      "The following objects are masked from 'package:stats':\n",
      "\n",
      "    filter, lag\n",
      "\n",
      "The following objects are masked from 'package:base':\n",
      "\n",
      "    intersect, setdiff, setequal, union\n",
      "\n"
     ]
    }
   ],
   "source": [
    "# Set working directory\n",
    "setwd(\"~/GitHub/UW-MDA-2017-DW\")\n",
    "\n",
    "# Import packages\n",
    "require(ggplot2)\n",
    "require(car)\n",
    "require(plyr)\n",
    "require(dplyr)"
   ]
  },
  {
   "cell_type": "code",
   "execution_count": 35,
   "metadata": {
    "collapsed": true
   },
   "outputs": [],
   "source": [
    "# Functions\n",
    "\n",
    "# File read function\n",
    "read.auto = function(file = 'Automobile price data _Raw_.csv'){\n",
    "  auto.data <- read.csv(file, header=TRUE, stringsAsFactors=FALSE)\n",
    "  \n",
    "  numcols <- c('price','peak.rpm')\n",
    "  auto.data[, numcols]<-lapply(auto.data[,numcols], as.numeric)\n",
    "  \n",
    "  factcols <- c('fuel.type','aspiration','drive.wheels','body.style')\n",
    "  auto.data[, factcols]<-lapply(auto.data[,factcols], as.factor)\n",
    "\n",
    "  auto.data[complete.cases(auto.data),]\n",
    "}\n",
    "\n",
    "# Histogram Plot Function\n",
    "plot.t <- function(a, b, plotvar,a.name, b.name,cols = c(a.name,b.name), nbins = 20){\n",
    "\n",
    "  maxs = max(c(max(a), max(b)))\n",
    "  mins = min(c(min(a), min(b)))\n",
    "  breaks = seq(maxs, mins, length.out = (nbins + 1))\n",
    "  par(mfrow = c(2, 1))\n",
    "  hist(a, breaks = breaks, main = paste('Histogram of', cols[1]), xlab = plotvar)\n",
    "  abline(v = mean(a), lwd = 4, col = 'red')\n",
    "  hist(b, breaks = breaks, main = paste('Histogram of', cols[2]), xlab = plotvar)\n",
    "  abline(v = mean(b), lwd = 4, col = 'red')\n",
    "  par(mfrow = c(1, 1))\n",
    "}\n",
    "\n",
    "# ANOVA Plot Function\n",
    "ANOVA.plot <- function (df){\n",
    "df$group = factor(df$group) # Make sure your groups are a factor (for further analysis below\n",
    "options(repr.plot.width=8, repr.plot.height=5)\n",
    "boxplot(df$val ~ df$group)\n",
    "\n",
    "df_aov = aov(val ~ group, data = df)\n",
    "summary(df_aov)\n",
    "print(df_aov)\n",
    "\n",
    "tukey_aov = TukeyHSD(df_aov)  # Tukey's Range test:\n",
    "tukey_aov\n",
    "plot(tukey_aov)\n",
    "print(tukey_aov)\n",
    "}"
   ]
  },
  {
   "cell_type": "markdown",
   "metadata": {},
   "source": [
    "Read data into a dataframe:"
   ]
  },
  {
   "cell_type": "code",
   "execution_count": 7,
   "metadata": {
    "collapsed": false,
    "scrolled": false
   },
   "outputs": [
    {
     "name": "stderr",
     "output_type": "stream",
     "text": [
      "Warning message in lapply(auto.data[, numcols], as.numeric):\n",
      "\"NAs introduced by coercion\"Warning message in lapply(auto.data[, numcols], as.numeric):\n",
      "\"NAs introduced by coercion\""
     ]
    },
    {
     "name": "stdout",
     "output_type": "stream",
     "text": [
      "'data.frame':\t199 obs. of  26 variables:\n",
      " $ symboling        : int  3 3 1 2 2 2 1 1 1 2 ...\n",
      " $ normalized.losses: chr  \"?\" \"?\" \"?\" \"164\" ...\n",
      " $ make             : chr  \"alfa-romero\" \"alfa-romero\" \"alfa-romero\" \"audi\" ...\n",
      " $ fuel.type        : Factor w/ 2 levels \"diesel\",\"gas\": 2 2 2 2 2 2 2 2 2 2 ...\n",
      " $ aspiration       : Factor w/ 2 levels \"std\",\"turbo\": 1 1 1 1 1 1 1 1 2 1 ...\n",
      " $ num.of.doors     : chr  \"two\" \"two\" \"two\" \"four\" ...\n",
      " $ body.style       : Factor w/ 5 levels \"convertible\",..: 1 1 3 4 4 4 4 5 4 4 ...\n",
      " $ drive.wheels     : Factor w/ 3 levels \"4wd\",\"fwd\",\"rwd\": 3 3 3 2 1 2 2 2 2 3 ...\n",
      " $ engine.location  : chr  \"front\" \"front\" \"front\" \"front\" ...\n",
      " $ wheel.base       : num  88.6 88.6 94.5 99.8 99.4 ...\n",
      " $ length           : num  169 169 171 177 177 ...\n",
      " $ width            : num  64.1 64.1 65.5 66.2 66.4 66.3 71.4 71.4 71.4 64.8 ...\n",
      " $ height           : num  48.8 48.8 52.4 54.3 54.3 53.1 55.7 55.7 55.9 54.3 ...\n",
      " $ curb.weight      : int  2548 2548 2823 2337 2824 2507 2844 2954 3086 2395 ...\n",
      " $ engine.type      : chr  \"dohc\" \"dohc\" \"ohcv\" \"ohc\" ...\n",
      " $ num.of.cylinders : chr  \"four\" \"four\" \"six\" \"four\" ...\n",
      " $ engine.size      : int  130 130 152 109 136 136 136 136 131 108 ...\n",
      " $ fuel.system      : chr  \"mpfi\" \"mpfi\" \"mpfi\" \"mpfi\" ...\n",
      " $ bore             : chr  \"3.47\" \"3.47\" \"2.68\" \"3.19\" ...\n",
      " $ stroke           : chr  \"2.68\" \"2.68\" \"3.47\" \"3.40\" ...\n",
      " $ compression.ratio: num  9 9 9 10 8 8.5 8.5 8.5 8.3 8.8 ...\n",
      " $ horsepower       : chr  \"111\" \"111\" \"154\" \"102\" ...\n",
      " $ peak.rpm         : num  5000 5000 5000 5500 5500 5500 5500 5500 5500 5800 ...\n",
      " $ city.mpg         : int  21 21 19 24 18 19 19 19 17 23 ...\n",
      " $ highway.mpg      : int  27 27 26 30 22 25 25 25 20 29 ...\n",
      " $ price            : num  13495 16500 16500 13950 17450 ...\n"
     ]
    },
    {
     "data": {
      "text/plain": [
       "   symboling       normalized.losses      make            fuel.type  \n",
       " Min.   :-2.0000   Length:199         Length:199         diesel: 20  \n",
       " 1st Qu.: 0.0000   Class :character   Class :character   gas   :179  \n",
       " Median : 1.0000   Mode  :character   Mode  :character               \n",
       " Mean   : 0.8392                                                     \n",
       " 3rd Qu.: 2.0000                                                     \n",
       " Max.   : 3.0000                                                     \n",
       " aspiration  num.of.doors             body.style drive.wheels\n",
       " std  :163   Length:199         convertible: 6   4wd:  8     \n",
       " turbo: 36   Class :character   hardtop    : 8   fwd:116     \n",
       "             Mode  :character   hatchback  :67   rwd: 75     \n",
       "                                sedan      :94               \n",
       "                                wagon      :24               \n",
       "                                                             \n",
       " engine.location      wheel.base         length          width      \n",
       " Length:199         Min.   : 86.60   Min.   :141.1   Min.   :60.30  \n",
       " Class :character   1st Qu.: 94.50   1st Qu.:166.6   1st Qu.:64.10  \n",
       " Mode  :character   Median : 97.00   Median :173.2   Median :65.50  \n",
       "                    Mean   : 98.82   Mean   :174.2   Mean   :65.88  \n",
       "                    3rd Qu.:102.40   3rd Qu.:183.5   3rd Qu.:66.70  \n",
       "                    Max.   :120.90   Max.   :208.1   Max.   :72.00  \n",
       "     height       curb.weight   engine.type        num.of.cylinders  \n",
       " Min.   :47.80   Min.   :1488   Length:199         Length:199        \n",
       " 1st Qu.:52.00   1st Qu.:2157   Class :character   Class :character  \n",
       " Median :54.10   Median :2414   Mode  :character   Mode  :character  \n",
       " Mean   :53.78   Mean   :2556                                        \n",
       " 3rd Qu.:55.55   3rd Qu.:2930                                        \n",
       " Max.   :59.80   Max.   :4066                                        \n",
       "  engine.size    fuel.system            bore              stroke         \n",
       " Min.   : 61.0   Length:199         Length:199         Length:199        \n",
       " 1st Qu.: 97.5   Class :character   Class :character   Class :character  \n",
       " Median :119.0   Mode  :character   Mode  :character   Mode  :character  \n",
       " Mean   :126.8                                                           \n",
       " 3rd Qu.:143.0                                                           \n",
       " Max.   :326.0                                                           \n",
       " compression.ratio  horsepower           peak.rpm       city.mpg   \n",
       " Min.   : 7.00     Length:199         Min.   :4150   Min.   :13.0  \n",
       " 1st Qu.: 8.55     Class :character   1st Qu.:4800   1st Qu.:19.0  \n",
       " Median : 9.00     Mode  :character   Median :5200   Median :24.0  \n",
       " Mean   :10.18                        Mean   :5118   Mean   :25.2  \n",
       " 3rd Qu.: 9.40                        3rd Qu.:5500   3rd Qu.:30.0  \n",
       " Max.   :23.00                        Max.   :6600   Max.   :49.0  \n",
       "  highway.mpg        price      \n",
       " Min.   :16.00   Min.   : 5118  \n",
       " 1st Qu.:25.00   1st Qu.: 7775  \n",
       " Median :30.00   Median :10345  \n",
       " Mean   :30.68   Mean   :13243  \n",
       " 3rd Qu.:34.00   3rd Qu.:16502  \n",
       " Max.   :54.00   Max.   :45400  "
      ]
     },
     "metadata": {},
     "output_type": "display_data"
    }
   ],
   "source": [
    "# Read data in\n",
    "auto.data = read.auto()\n",
    "\n",
    "# View dataset and summary statistics\n",
    "str(auto.data)\n",
    "summary(auto.data)"
   ]
  },
  {
   "cell_type": "markdown",
   "metadata": {
    "collapsed": true
   },
   "source": [
    "Test Normality of Price and log(Price)"
   ]
  },
  {
   "cell_type": "code",
   "execution_count": 25,
   "metadata": {
    "collapsed": false,
    "scrolled": false
   },
   "outputs": [
    {
     "data": {
      "text/plain": [
       "\n",
       "\tShapiro-Wilk normality test\n",
       "\n",
       "data:  price\n",
       "W = 0.96116, p-value = 2.772e-05\n"
      ]
     },
     "metadata": {},
     "output_type": "display_data"
    },
    {
     "data": {
      "text/plain": [
       "\n",
       "\tShapiro-Wilk normality test\n",
       "\n",
       "data:  price.log\n",
       "W = 0.96492, p-value = 7.33e-05\n"
      ]
     },
     "metadata": {},
     "output_type": "display_data"
    },
    {
     "data": {
      "image/png": "[encoded data removed]",
      "text/plain": [
       "Plot with title \"Q-Q plot of Log(Price)\""
      ]
     },
     "metadata": {},
     "output_type": "display_data"
    }
   ],
   "source": [
    "# Normality Testing of Price and log(Price)\n",
    "price <- auto.data$price\n",
    "price.log <- log(price)\n",
    "\n",
    "# Graphical test using qqplot:\n",
    "options(repr.plot.width=8, repr.plot.height=4)\n",
    "par(mfrow = c(1, 2))\n",
    "qqnorm(price, main ='Q-Q plot of Price',col=\"red\");qqline(price)\n",
    "qqnorm(price.log, main = 'Q-Q plot of Log(Price)',col=\"blue\");qqline(price.log)\n",
    "par(mfrow = c(1, 1))\n",
    "# Neither looks particularly normal. log(Price) may be somewhat more normal.\n",
    "# This makes some sense in that there are very few cars cheaper than some minimum number.\n",
    "\n",
    "# Formal Test using Shapiro-Wilk\n",
    "shapiro.test(price)\n",
    "shapiro.test(price.log)\n",
    "\n",
    "# Yes, log(price) is much closer to normal than price - although still not particularly normal.\n",
    "# So use that instead.\n",
    "auto.data$price <- log(auto.data$price)"
   ]
  },
  {
   "cell_type": "markdown",
   "metadata": {},
   "source": [
    "Based on both the quantile plots and the S-W test results (p <=0.05 in both cases), log(price) is much closer to normal than price - although still not particularly normal. So use that instead.\n",
    "\n",
    "I will use log(Price) for the subsequent calculations."
   ]
  },
  {
   "cell_type": "markdown",
   "metadata": {},
   "source": [
    "## Significance of Log(Price) relative to Fuel Type, Aspiration, and front vs. rear wheel drive"
   ]
  },
  {
   "cell_type": "code",
   "execution_count": 14,
   "metadata": {
    "collapsed": false
   },
   "outputs": [
    {
     "data": {
      "text/plain": [
       "\n",
       "\tWelch Two Sample t-test\n",
       "\n",
       "data:  auto.gas and auto.diesel\n",
       "t = -1.9795, df = 23.73, p-value = 0.05947\n",
       "alternative hypothesis: true difference in means is not equal to 0\n",
       "95 percent confidence interval:\n",
       " -0.466760568  0.009882369\n",
       "sample estimates:\n",
       "mean of x mean of y \n",
       " 9.328981  9.557420 \n"
      ]
     },
     "metadata": {},
     "output_type": "display_data"
    },
    {
     "data": {
      "image/png": "[encoded data removed]",
      "text/plain": [
       "Plot with title \"Histogram of Fuel Type = Diesel\""
      ]
     },
     "metadata": {},
     "output_type": "display_data"
    }
   ],
   "source": [
    "auto.gas=data.matrix(select(filter(auto.data, fuel.type =='gas'),price))\n",
    "auto.diesel=data.matrix(select(filter(auto.data, fuel.type =='diesel'),price))\n",
    "plot.t(auto.gas, auto.diesel, 'log(price)','Fuel Type = Gas','Fuel Type = Diesel')\n",
    "t.test(auto.gas,auto.diesel, alternative = \"two.sided\")"
   ]
  },
  {
   "cell_type": "markdown",
   "metadata": {},
   "source": [
    "Based on the p value, we cannot reject the hypothesis that the means are different at a 95% confidence level."
   ]
  },
  {
   "cell_type": "code",
   "execution_count": 16,
   "metadata": {
    "collapsed": false
   },
   "outputs": [
    {
     "data": {
      "text/plain": [
       "\n",
       "\tWelch Two Sample t-test\n",
       "\n",
       "data:  auto.std and auto.turbo\n",
       "t = -4.4432, df = 65.419, p-value = 3.501e-05\n",
       "alternative hypothesis: true difference in means is not equal to 0\n",
       "95 percent confidence interval:\n",
       " -0.4848426 -0.1841688\n",
       "sample estimates:\n",
       "mean of x mean of y \n",
       " 9.291426  9.625932 \n"
      ]
     },
     "metadata": {},
     "output_type": "display_data"
    },
    {
     "data": {
      "image/png": "[encoded data removed]",
      "text/plain": [
       "Plot with title \"Histogram of Aspiration = turbo\""
      ]
     },
     "metadata": {},
     "output_type": "display_data"
    }
   ],
   "source": [
    "auto.std=data.matrix(select(filter(auto.data, aspiration =='std'),price))\n",
    "auto.turbo=data.matrix(select(filter(auto.data, aspiration =='turbo'),price))\n",
    "plot.t(auto.std, auto.turbo, 'log(price)','Aspiration = std','Aspiration = turbo')\n",
    "t.test(auto.std,auto.turbo, alternative = \"two.sided\")"
   ]
  },
  {
   "cell_type": "markdown",
   "metadata": {},
   "source": [
    "Based on the small P value, we can conclude that the alternative hypothesis, that the means are different, is true."
   ]
  },
  {
   "cell_type": "code",
   "execution_count": 17,
   "metadata": {
    "collapsed": false
   },
   "outputs": [
    {
     "data": {
      "text/plain": [
       "\n",
       "\tWelch Two Sample t-test\n",
       "\n",
       "data:  auto.fwd and auto.rwd\n",
       "t = -12.249, df = 124.86, p-value < 2.2e-16\n",
       "alternative hypothesis: true difference in means is not equal to 0\n",
       "95 percent confidence interval:\n",
       " -0.8353264 -0.6029345\n",
       "sample estimates:\n",
       "mean of x mean of y \n",
       " 9.076065  9.795195 \n"
      ]
     },
     "metadata": {},
     "output_type": "display_data"
    },
    {
     "data": {
      "image/png": "[encoded data removed]",
      "text/plain": [
       "Plot with title \"Histogram of Drive Wheels = rwd\""
      ]
     },
     "metadata": {},
     "output_type": "display_data"
    }
   ],
   "source": [
    "auto.fwd=data.matrix(select(filter(auto.data, drive.wheels =='fwd'),price))\n",
    "auto.rwd=data.matrix(select(filter(auto.data, drive.wheels =='rwd'),price))\n",
    "plot.t(auto.fwd, auto.rwd, 'log(price)','Drive Wheels = fwd','Drive Wheels = rwd')\n",
    "t.test(auto.fwd,auto.rwd, alternative = \"two.sided\")"
   ]
  },
  {
   "cell_type": "markdown",
   "metadata": {},
   "source": [
    "Again, based on the small P value, we can conclude that the alternative hypothesis, that the means are different, is true."
   ]
  },
  {
   "cell_type": "markdown",
   "metadata": {},
   "source": [
    "##Analysis of variance for number of doors and body style"
   ]
  },
  {
   "cell_type": "code",
   "execution_count": 29,
   "metadata": {
    "collapsed": false
   },
   "outputs": [
    {
     "data": {
      "text/html": [
       "<table>\n",
       "<thead><tr><th scope=col>num.of.doors</th><th scope=col>n</th></tr></thead>\n",
       "<tbody>\n",
       "\t<tr><td>?   </td><td>  2 </td></tr>\n",
       "\t<tr><td>four</td><td>112 </td></tr>\n",
       "\t<tr><td>two </td><td> 85 </td></tr>\n",
       "</tbody>\n",
       "</table>\n"
      ],
      "text/latex": [
       "\\begin{tabular}{r|ll}\n",
       " num.of.doors & n\\\\\n",
       "\\hline\n",
       "\t ?    &   2 \\\\\n",
       "\t four & 112 \\\\\n",
       "\t two  &  85 \\\\\n",
       "\\end{tabular}\n"
      ],
      "text/markdown": [
       "\n",
       "num.of.doors | n | \n",
       "|---|---|---|\n",
       "| ?    |   2  | \n",
       "| four | 112  | \n",
       "| two  |  85  | \n",
       "\n",
       "\n"
      ],
      "text/plain": [
       "  num.of.doors n  \n",
       "1 ?              2\n",
       "2 four         112\n",
       "3 two           85"
      ]
     },
     "metadata": {},
     "output_type": "display_data"
    }
   ],
   "source": [
    "###\n",
    "# ANOVA - Doors\n",
    "###\n",
    "\n",
    "numdoors.count <- data.frame(count(auto.data,num.of.doors))\n",
    "numdoors.count\n"
   ]
  },
  {
   "cell_type": "markdown",
   "metadata": {},
   "source": [
    "There are 2 entries with bad data - discard"
   ]
  },
  {
   "cell_type": "code",
   "execution_count": 31,
   "metadata": {
    "collapsed": false
   },
   "outputs": [
    {
     "data": {},
     "metadata": {},
     "output_type": "display_data"
    },
    {
     "data": {
      "image/png": "[encoded data removed]",
      "text/plain": [
       "plot without title"
      ]
     },
     "metadata": {},
     "output_type": "display_data"
    }
   ],
   "source": [
    "numdoors.count <- subset (numdoors.count, num.of.doors!='?')\n",
    "ggplot(numdoors.count,aes(x=num.of.doors, y=n))+geom_bar(stat='identity')\n"
   ]
  },
  {
   "cell_type": "markdown",
   "metadata": {},
   "source": [
    "Plenty of data in both categories!"
   ]
  },
  {
   "cell_type": "code",
   "execution_count": 32,
   "metadata": {
    "collapsed": false,
    "scrolled": false
   },
   "outputs": [
    {
     "name": "stdout",
     "output_type": "stream",
     "text": [
      "Call:\n",
      "   aov(formula = val ~ group, data = df)\n",
      "\n",
      "Terms:\n",
      "                     group  Residuals\n",
      "Sum of Squares  0.00220709 0.16659976\n",
      "Deg. of Freedom          1        195\n",
      "\n",
      "Residual standard error: 0.0292294\n",
      "Estimated effects may be unbalanced\n"
     ]
    },
    {
     "data": {
      "image/png": "[encoded data removed]",
      "text/plain": [
       "plot without title"
      ]
     },
     "metadata": {},
     "output_type": "display_data"
    },
    {
     "name": "stdout",
     "output_type": "stream",
     "text": [
      "  Tukey multiple comparisons of means\n",
      "    95% family-wise confidence level\n",
      "\n",
      "Fit: aov(formula = val ~ group, data = df)\n",
      "\n",
      "$group\n",
      "             diff          lwr        upr     p adj\n",
      "4d-2d 0.006758103 -0.001534414 0.01505062 0.1096119\n",
      "\n"
     ]
    },
    {
     "data": {
      "image/png": "[encoded data removed]",
      "text/plain": [
       "Plot with title \"95% family-wise confidence level\n",
       "\""
      ]
     },
     "metadata": {},
     "output_type": "display_data"
    }
   ],
   "source": [
    "auto.2d=filter(auto.data, num.of.doors == 'two')\n",
    "auto.4d=filter(auto.data, num.of.doors == 'four')\n",
    "\n",
    "df.door <- data.frame('group'=c(rep('2d',length(auto.2d$price)),\n",
    "                           rep('4d',length(auto.4d$price))),\n",
    "                 'val' = c(auto.2d$price,auto.4d$price))\n",
    "\n",
    "ANOVA.plot(df.door)"
   ]
  },
  {
   "cell_type": "markdown",
   "metadata": {},
   "source": [
    "Visually they look similar, and the Tukey test implies that we cannot reject the null hypothesis that they are the same."
   ]
  },
  {
   "cell_type": "code",
   "execution_count": 33,
   "metadata": {
    "collapsed": false
   },
   "outputs": [
    {
     "data": {},
     "metadata": {},
     "output_type": "display_data"
    },
    {
     "data": {
      "image/png": "[encoded data removed]",
      "text/plain": [
       "plot without title"
      ]
     },
     "metadata": {},
     "output_type": "display_data"
    }
   ],
   "source": [
    "###\n",
    "# ANOVA - Body Type\n",
    "###\n",
    "\n",
    "body.count <- data.frame(count(auto.data,body.style))\n",
    "ggplot(body.count,aes(x=body.style, y=n))+geom_bar(stat='identity')\n",
    "# Hmm, convertibles and hardtops don't have much data - discard from ANOVA"
   ]
  },
  {
   "cell_type": "code",
   "execution_count": 36,
   "metadata": {
    "collapsed": false,
    "scrolled": false
   },
   "outputs": [
    {
     "name": "stdout",
     "output_type": "stream",
     "text": [
      "Call:\n",
      "   aov(formula = val ~ group, data = df)\n",
      "\n",
      "Terms:\n",
      "                     group  Residuals\n",
      "Sum of Squares  0.01340611 0.13056734\n",
      "Deg. of Freedom          2        182\n",
      "\n",
      "Residual standard error: 0.02678438\n",
      "Estimated effects may be unbalanced\n"
     ]
    },
    {
     "data": {
      "image/png": "[encoded data removed]",
      "text/plain": [
       "plot without title"
      ]
     },
     "metadata": {},
     "output_type": "display_data"
    },
    {
     "name": "stdout",
     "output_type": "stream",
     "text": [
      "  Tukey multiple comparisons of means\n",
      "    95% family-wise confidence level\n",
      "\n",
      "Fit: aov(formula = val ~ group, data = df)\n",
      "\n",
      "$group\n",
      "                    diff           lwr        upr     p adj\n",
      "Sedan-Hat.   0.018320636  0.0082009818 0.02844029 0.0000899\n",
      "Wagon-Hat.   0.014333768 -0.0007229989 0.02939054 0.0657728\n",
      "Wagon-Sedan -0.003986868 -0.0184620993 0.01048836 0.7921255\n",
      "\n"
     ]
    },
    {
     "data": {
      "image/png": "[encoded data removed]",
      "text/plain": [
       "Plot with title \"95% family-wise confidence level\n",
       "\""
      ]
     },
     "metadata": {},
     "output_type": "display_data"
    }
   ],
   "source": [
    "auto.hat=filter(auto.data, body.style == 'hatchback')\n",
    "auto.sed=filter(auto.data, body.style == 'sedan')\n",
    "auto.wag=filter(auto.data, body.style == 'wagon')\n",
    "\n",
    "df.body <- data.frame('group'=c(rep('Hat.',length(auto.hat$price)),\n",
    "                           rep('Sedan',length(auto.sed$price)),\n",
    "                           rep('Wagon',length(auto.wag$price))),\n",
    "                 'val' = c(auto.hat$price,auto.sed$price,auto.wag$price))\n",
    "\n",
    "ANOVA.plot(df.body)"
   ]
  },
  {
   "cell_type": "markdown",
   "metadata": {},
   "source": [
    "Based on the Tukey coefficients, there is not a significant price difference between wagons and sedans, but there is for both wagons and hatchbacks and hatchbacks vs. sedans."
   ]
  }
 ],
 "metadata": {
  "anaconda-cloud": {},
  "kernelspec": {
   "display_name": "R",
   "language": "R",
   "name": "ir"
  },
  "language_info": {
   "codemirror_mode": "r",
   "file_extension": ".r",
   "mimetype": "text/x-r-source",
   "name": "R",
   "pygments_lexer": "r",
   "version": "3.3.1"
  }
 },
 "nbformat": 4,
 "nbformat_minor": 1
}
